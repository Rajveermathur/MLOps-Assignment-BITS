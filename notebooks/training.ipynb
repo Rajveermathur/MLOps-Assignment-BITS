{
 "cells": [
  {
   "cell_type": "code",
   "execution_count": 1,
   "id": "547dec11",
   "metadata": {},
   "outputs": [],
   "source": [
    "import mlflow\n",
    "import mlflow.sklearn\n",
    "from sklearn.datasets import fetch_california_housing\n",
    "from sklearn.linear_model import LinearRegression\n",
    "from sklearn.tree import DecisionTreeRegressor\n",
    "from sklearn.metrics import mean_squared_error\n",
    "from sklearn.model_selection import train_test_split\n",
    "import numpy as np\n",
    "import pandas as pd"
   ]
  },
  {
   "cell_type": "code",
   "execution_count": 2,
   "id": "5f513cba",
   "metadata": {},
   "outputs": [
    {
     "data": {
      "text/html": [
       "<div>\n",
       "<style scoped>\n",
       "    .dataframe tbody tr th:only-of-type {\n",
       "        vertical-align: middle;\n",
       "    }\n",
       "\n",
       "    .dataframe tbody tr th {\n",
       "        vertical-align: top;\n",
       "    }\n",
       "\n",
       "    .dataframe thead th {\n",
       "        text-align: right;\n",
       "    }\n",
       "</style>\n",
       "<table border=\"1\" class=\"dataframe\">\n",
       "  <thead>\n",
       "    <tr style=\"text-align: right;\">\n",
       "      <th></th>\n",
       "      <th>MedInc</th>\n",
       "      <th>HouseAge</th>\n",
       "      <th>AveRooms</th>\n",
       "      <th>AveBedrms</th>\n",
       "      <th>Population</th>\n",
       "      <th>AveOccup</th>\n",
       "      <th>Latitude</th>\n",
       "      <th>Longitude</th>\n",
       "    </tr>\n",
       "  </thead>\n",
       "  <tbody>\n",
       "    <tr>\n",
       "      <th>0</th>\n",
       "      <td>8.3252</td>\n",
       "      <td>41.0</td>\n",
       "      <td>6.984127</td>\n",
       "      <td>1.023810</td>\n",
       "      <td>322.0</td>\n",
       "      <td>2.555556</td>\n",
       "      <td>37.88</td>\n",
       "      <td>-122.23</td>\n",
       "    </tr>\n",
       "    <tr>\n",
       "      <th>1</th>\n",
       "      <td>8.3014</td>\n",
       "      <td>21.0</td>\n",
       "      <td>6.238137</td>\n",
       "      <td>0.971880</td>\n",
       "      <td>2401.0</td>\n",
       "      <td>2.109842</td>\n",
       "      <td>37.86</td>\n",
       "      <td>-122.22</td>\n",
       "    </tr>\n",
       "    <tr>\n",
       "      <th>2</th>\n",
       "      <td>7.2574</td>\n",
       "      <td>52.0</td>\n",
       "      <td>8.288136</td>\n",
       "      <td>1.073446</td>\n",
       "      <td>496.0</td>\n",
       "      <td>2.802260</td>\n",
       "      <td>37.85</td>\n",
       "      <td>-122.24</td>\n",
       "    </tr>\n",
       "    <tr>\n",
       "      <th>3</th>\n",
       "      <td>5.6431</td>\n",
       "      <td>52.0</td>\n",
       "      <td>5.817352</td>\n",
       "      <td>1.073059</td>\n",
       "      <td>558.0</td>\n",
       "      <td>2.547945</td>\n",
       "      <td>37.85</td>\n",
       "      <td>-122.25</td>\n",
       "    </tr>\n",
       "    <tr>\n",
       "      <th>4</th>\n",
       "      <td>3.8462</td>\n",
       "      <td>52.0</td>\n",
       "      <td>6.281853</td>\n",
       "      <td>1.081081</td>\n",
       "      <td>565.0</td>\n",
       "      <td>2.181467</td>\n",
       "      <td>37.85</td>\n",
       "      <td>-122.25</td>\n",
       "    </tr>\n",
       "  </tbody>\n",
       "</table>\n",
       "</div>"
      ],
      "text/plain": [
       "   MedInc  HouseAge  AveRooms  AveBedrms  Population  AveOccup  Latitude  \\\n",
       "0  8.3252      41.0  6.984127   1.023810       322.0  2.555556     37.88   \n",
       "1  8.3014      21.0  6.238137   0.971880      2401.0  2.109842     37.86   \n",
       "2  7.2574      52.0  8.288136   1.073446       496.0  2.802260     37.85   \n",
       "3  5.6431      52.0  5.817352   1.073059       558.0  2.547945     37.85   \n",
       "4  3.8462      52.0  6.281853   1.081081       565.0  2.181467     37.85   \n",
       "\n",
       "   Longitude  \n",
       "0    -122.23  \n",
       "1    -122.22  \n",
       "2    -122.24  \n",
       "3    -122.25  \n",
       "4    -122.25  "
      ]
     },
     "execution_count": 2,
     "metadata": {},
     "output_type": "execute_result"
    }
   ],
   "source": [
    "df = pd.read_csv('../data/cleaned_california_housing.csv')\n",
    "X = df.drop('MedHouseVal', axis=1)\n",
    "y = df['MedHouseVal']\n",
    "X.head()"
   ]
  },
  {
   "cell_type": "code",
   "execution_count": 3,
   "id": "41761895",
   "metadata": {},
   "outputs": [],
   "source": [
    "# Split into train/test\n",
    "X_train, X_test, y_train, y_test = train_test_split(X, y, test_size=0.2, random_state=42)"
   ]
  },
  {
   "cell_type": "code",
   "execution_count": 4,
   "id": "4ad5d028",
   "metadata": {},
   "outputs": [
    {
     "name": "stderr",
     "output_type": "stream",
     "text": [
      "2025/07/28 22:13:23 INFO mlflow.tracking.fluent: Experiment with name 'CaliforniaHousingModels' does not exist. Creating a new experiment.\n"
     ]
    }
   ],
   "source": [
    "# Track experiments\n",
    "mlflow.set_experiment(\"CaliforniaHousingModels\")\n",
    "\n",
    "best_rmse = float(\"inf\")\n",
    "best_run_id = None\n",
    "best_model_name = None"
   ]
  },
  {
   "cell_type": "code",
   "execution_count": 13,
   "id": "afcb40ba",
   "metadata": {},
   "outputs": [],
   "source": [
    "def train_and_log_model(model, name, params={}):\n",
    "    with mlflow.start_run(run_name=name) as run:\n",
    "        # Set tags\n",
    "        mlflow.set_tag(\"model_type\", name)\n",
    "\n",
    "        # Log params\n",
    "        mlflow.log_params(params)\n",
    "\n",
    "        # Train\n",
    "        model.fit(X_train, y_train)\n",
    "\n",
    "        # Predict\n",
    "        y_pred = model.predict(X_test)\n",
    "\n",
    "        # Evaluate\n",
    "        rmse = np.sqrt(mean_squared_error(y_test, y_pred))\n",
    "        mlflow.log_metric(\"rmse\", rmse)\n",
    "\n",
    "        # Log model\n",
    "        mlflow.sklearn.log_model(model, \"model\", registered_model_name=name)\n",
    "\n",
    "        print(f\"🔍 {name} RMSE: {rmse:.4f}\")\n",
    "        return run.info.run_id, rmse\n"
   ]
  },
  {
   "cell_type": "code",
   "execution_count": 14,
   "id": "98c571dd",
   "metadata": {},
   "outputs": [
    {
     "name": "stderr",
     "output_type": "stream",
     "text": [
      "2025/07/28 22:20:57 WARNING mlflow.models.model: `artifact_path` is deprecated. Please use `name` instead.\n",
      "2025/07/28 22:21:07 WARNING mlflow.models.model: Model logged without a signature and input example. Please set `input_example` parameter when logging the model to auto infer the model signature.\n",
      "Registered model 'LinearRegression' already exists. Creating a new version of this model...\n",
      "Created version '2' of model 'LinearRegression'.\n"
     ]
    },
    {
     "name": "stdout",
     "output_type": "stream",
     "text": [
      "🔍 LinearRegression RMSE: 0.7456\n"
     ]
    },
    {
     "name": "stderr",
     "output_type": "stream",
     "text": [
      "2025/07/28 22:21:08 WARNING mlflow.models.model: `artifact_path` is deprecated. Please use `name` instead.\n",
      "2025/07/28 22:21:20 WARNING mlflow.models.model: Model logged without a signature and input example. Please set `input_example` parameter when logging the model to auto infer the model signature.\n"
     ]
    },
    {
     "name": "stdout",
     "output_type": "stream",
     "text": [
      "🔍 DecisionTree RMSE: 0.7037\n"
     ]
    },
    {
     "name": "stderr",
     "output_type": "stream",
     "text": [
      "Registered model 'DecisionTree' already exists. Creating a new version of this model...\n",
      "Created version '2' of model 'DecisionTree'.\n"
     ]
    }
   ],
   "source": [
    "# Train Linear Regression\n",
    "lr = LinearRegression()\n",
    "lr_run_id, lr_rmse = train_and_log_model(lr, \"LinearRegression\")\n",
    "\n",
    "# Train Decision Tree\n",
    "dt = DecisionTreeRegressor(random_state=42)\n",
    "dt_run_id, dt_rmse = train_and_log_model(dt, \"DecisionTree\")"
   ]
  },
  {
   "cell_type": "code",
   "execution_count": 15,
   "id": "b463a2f8",
   "metadata": {},
   "outputs": [
    {
     "name": "stdout",
     "output_type": "stream",
     "text": [
      "✅ Best model: DecisionTree with RMSE: 0.7037\n"
     ]
    }
   ],
   "source": [
    "# Determine best\n",
    "if lr_rmse < dt_rmse:\n",
    "    best_rmse = lr_rmse\n",
    "    best_run_id = lr_run_id\n",
    "    best_model_name = \"LinearRegression\"\n",
    "else:\n",
    "    best_rmse = dt_rmse\n",
    "    best_run_id = dt_run_id\n",
    "    best_model_name = \"DecisionTree\"\n",
    "\n",
    "print(f\"✅ Best model: {best_model_name} with RMSE: {best_rmse:.4f}\")"
   ]
  },
  {
   "cell_type": "code",
   "execution_count": 16,
   "id": "7fbd0bbd",
   "metadata": {},
   "outputs": [
    {
     "name": "stderr",
     "output_type": "stream",
     "text": [
      "Successfully registered model 'BestCaliforniaModel'.\n",
      "2025/07/28 22:21:44 WARNING mlflow.tracking._model_registry.fluent: Run with id d51fb8302d0c4d86881ef17ee9459355 has no artifacts at artifact path 'model', registering model based on models:/m-63b54db22cf04d7aa4e95ebea3509dd1 instead\n",
      "Created version '1' of model 'BestCaliforniaModel'.\n"
     ]
    },
    {
     "data": {
      "text/plain": [
       "<ModelVersion: aliases=[], creation_timestamp=1753721504208, current_stage='None', deployment_job_state=None, description=None, last_updated_timestamp=1753721504208, metrics=[<Metric: dataset_digest=None, dataset_name=None, key='rmse', model_id='m-63b54db22cf04d7aa4e95ebea3509dd1', run_id='d51fb8302d0c4d86881ef17ee9459355', step=0, timestamp=1753721468083, value=0.7037294974840077>], model_id='m-63b54db22cf04d7aa4e95ebea3509dd1', name='BestCaliforniaModel', params={}, run_id='d51fb8302d0c4d86881ef17ee9459355', run_link=None, source='models:/m-63b54db22cf04d7aa4e95ebea3509dd1', status='READY', status_message=None, tags={}, user_id=None, version=1>"
      ]
     },
     "execution_count": 16,
     "metadata": {},
     "output_type": "execute_result"
    }
   ],
   "source": [
    "# Register best model in MLflow Model Registry\n",
    "from mlflow import register_model\n",
    "mlflow.register_model(\n",
    "    model_uri=f\"runs:/{best_run_id}/model\",\n",
    "    name=\"BestCaliforniaModel\"\n",
    ")\n"
   ]
  },
  {
   "cell_type": "code",
   "execution_count": 17,
   "id": "15f6a735",
   "metadata": {},
   "outputs": [
    {
     "name": "stdout",
     "output_type": "stream",
     "text": [
      "Tracking URI: file:///c:/Users/Rajveer%20Mathur/Desktop/MLOps-Assignment-BITS/notebooks/mlruns\n"
     ]
    }
   ],
   "source": [
    "print(\"Tracking URI:\", mlflow.get_tracking_uri())"
   ]
  }
 ],
 "metadata": {
  "kernelspec": {
   "display_name": "Python 3",
   "language": "python",
   "name": "python3"
  },
  "language_info": {
   "codemirror_mode": {
    "name": "ipython",
    "version": 3
   },
   "file_extension": ".py",
   "mimetype": "text/x-python",
   "name": "python",
   "nbconvert_exporter": "python",
   "pygments_lexer": "ipython3",
   "version": "3.11.9"
  }
 },
 "nbformat": 4,
 "nbformat_minor": 5
}
